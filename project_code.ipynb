{
 "cells": [
  {
   "cell_type": "code",
   "execution_count": 7,
   "id": "b37ba53b-51e1-46cc-8092-03f9744d586f",
   "metadata": {},
   "outputs": [],
   "source": [
    "#Importing \n",
    "import csv   \n",
    "import json \n",
    "from pymongo import MongoClient"
   ]
  },
  {
   "cell_type": "code",
   "execution_count": 8,
   "id": "d152c5b2-c504-46b7-ab85-70290a46a52d",
   "metadata": {},
   "outputs": [],
   "source": [
    "# MongoDB configurations\n",
    "client = MongoClient(\"mongodb://localhost:27017/\")\n",
    "db = client[\"york_db\"]\n",
    "collection = db[\"assignment_db\"]"
   ]
  },
  {
   "cell_type": "code",
   "execution_count": 9,
   "id": "c80a2593-2669-4602-b240-896be2bc039f",
   "metadata": {},
   "outputs": [],
   "source": [
    "#Display it as a readable format\n",
    "def display_data(data):\n",
    "    for record in data:\n",
    "        print(\"\\npresented record:\")\n",
    "        for key, value in record.items():\n",
    "            print(f\"{key:<20}: {value}\")\n",
    "        print(\"-\" * 40)"
   ]
  },
  {
   "cell_type": "code",
   "execution_count": 10,
   "id": "91e1f72b-d787-4f89-a523-62f75834e1fc",
   "metadata": {},
   "outputs": [],
   "source": [
    "# To convert CSV to JSON\n",
    "def conversion_formats():\n",
    "    csv_file = input(\"Please enter the CSV file name (display it like this data/file_name.csv): \") # prompt the user for the file name)\n",
    "    json_file = csv_file.replace('.csv', '.json') # generate the json file \n",
    "\n",
    "  \n",
    "    data = [] # initalise data storage\n",
    "    print(f\"Checking data from {csv_file} \")\n",
    "    try: # try and except block used incase any errors occur also reading file first \n",
    "        # Read the CSV file\n",
    "        with open(csv_file, mode='r', encoding='ISO-8859-1') as csv_file:\n",
    "            csv_reader = csv.DictReader(csv_file)\n",
    "            for i in csv_reader:\n",
    "                data.append(i)\n",
    "                \n",
    "\n",
    "        display_data(data) #readable format\n",
    "        \n",
    "        print(f\"Presented {i}\")\n",
    "        print(f\"Planning to convert the data to {json_file}\")\n",
    "        with open(json_file, mode='w', encoding='UTF-8' ) as json_file:\n",
    "            json.dump(data, json_file, indent=4) # using Json Dump\n",
    "            print(\"Conversion done!\", )\n",
    "\n",
    "            # Place Json data into MongoDB\n",
    "        try:\n",
    "            print(\"Loading data into MongoDB...\")\n",
    "            result = collection.insert_many(data)\n",
    "            print(f\"Inserted {len(result.inserted_ids)} data into MongoDB\")\n",
    "        except Exception as e:\n",
    "             print(\"An error occurred:\", e)\n",
    "        \n",
    "    except FileNotFoundError:\n",
    "        print(\"File not found. Please check the file path.\")\n",
    "    except Exception as e:\n",
    "        print(\"An error occurred:\", e)"
   ]
  },
  {
   "cell_type": "code",
   "execution_count": null,
   "id": "c8348c3e-c994-4d57-92dd-97ddeeda27df",
   "metadata": {},
   "outputs": [],
   "source": [
    "#execute the function \n",
    "conversion_formats()"
   ]
  }
 ],
 "metadata": {
  "kernelspec": {
   "display_name": "Python 3 (ipykernel)",
   "language": "python",
   "name": "python3"
  },
  "language_info": {
   "codemirror_mode": {
    "name": "ipython",
    "version": 3
   },
   "file_extension": ".py",
   "mimetype": "text/x-python",
   "name": "python",
   "nbconvert_exporter": "python",
   "pygments_lexer": "ipython3",
   "version": "3.10.15"
  }
 },
 "nbformat": 4,
 "nbformat_minor": 5
}
